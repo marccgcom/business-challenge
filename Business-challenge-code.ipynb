{
 "cells": [
  {
   "cell_type": "markdown",
   "id": "8ac183b9-caed-4ad0-9bb4-c12a4a695235",
   "metadata": {},
   "source": [
    "# Business challenge: Gestión de datos de una compañía de taxis\n",
    "\n",
    "### Escenario empresarial: Se te ha encargado desarrollar un programa en Python para una compañía de taxis en Barcelona. El programa debería ayudar a la compañía a gestionar datos relacionados con sus taxis, conductores y viajes. La compañía de taxis necesita almacenar y manipular estos datos de manera eficiente para optimizar sus operaciones.\n",
    "\n",
    "**Instrucciones:**\n",
    "\n",
    "    Crear un diccionario para almacenar información sobre los conductores de taxi. Cada conductor debe tener un ID de conductor único (un valor numérico) y los siguientes detalles:\n",
    "        Nombre completo del conductor\n",
    "        Número de contacto\n",
    "        Número total de viajes realizados\n",
    "\n",
    "    Crear una lista para almacenar información sobre los viajes en taxi. Cada viaje debe incluir los siguientes detalles:\n",
    "        ID del viaje (un identificador único)\n",
    "        ID del conductor (para asociar el viaje con un conductor)\n",
    "        Nombre del cliente\n",
    "        Distancia del viaje (en kilómetros)\n",
    "        Tarifa del viaje (en euros)\n",
    "\n",
    "    Implementar las siguientes funcionalidades dentro de tu programa en Python:\n",
    "        Proporcionar el pseudocódigo\n",
    "        Añadir nuevos conductores al diccionario de conductores.\n",
    "        Registrar nuevos viajes en taxi con los detalles relevantes.\n",
    "        Calcular y actualizar el número total de viajes realizados por cada conductor.\n",
    "        Calcular los ingresos totales generados por la compañía de taxis.\n",
    "        Encontrar al conductor con el mayor número de viajes.\n",
    "        Encontrar al conductor con los ingresos totales más altos.\n",
    "        Listar todos los viajes realizados por un conductor específico.\n",
    "\n"
   ]
  },
  {
   "cell_type": "code",
   "execution_count": 27,
   "id": "62f070b8-4dfb-47c4-a86e-42afc9a8ba2c",
   "metadata": {},
   "outputs": [
    {
     "name": "stdout",
     "output_type": "stream",
     "text": [
      "\n",
      "    0 - Salir\n",
      "    1 - Ver Conductores\n",
      "    2 - Ver viajes\n",
      "    3 - Añadir nuevos conductores\n",
      "    4 - Añadir viaje\n",
      "    5 - Calcular y actualizar el número total de viajes realizados por cada conductor.\n",
      "    6 - Calcular los ingresos totales generados por la compañía de taxis.\n",
      "    7 - Encontrar al conductor con el mayor número de viajes.\n",
      "    8 - Encontrar al conductor con los ingresos totales más altos.\n",
      "    9 - Listar todos los viajes realizados por un conductor específico.\n",
      "    \n"
     ]
    },
    {
     "name": "stdin",
     "output_type": "stream",
     "text": [
      "Que quieres hacer 4\n",
      "Id del conductor:  1\n",
      "Nombre del cliente:  jaja\n",
      "Distancia:  15\n",
      "Fare:  15\n"
     ]
    },
    {
     "name": "stdout",
     "output_type": "stream",
     "text": [
      "{'trip_id': 2, 'driver_id': 1, 'customer_name': 'jaja', 'distance': 15.0, 'fare': 15.0}\n",
      "\n",
      "    0 - Salir\n",
      "    1 - Ver Conductores\n",
      "    2 - Ver viajes\n",
      "    3 - Añadir nuevos conductores\n",
      "    4 - Añadir viaje\n",
      "    5 - Calcular y actualizar el número total de viajes realizados por cada conductor.\n",
      "    6 - Calcular los ingresos totales generados por la compañía de taxis.\n",
      "    7 - Encontrar al conductor con el mayor número de viajes.\n",
      "    8 - Encontrar al conductor con los ingresos totales más altos.\n",
      "    9 - Listar todos los viajes realizados por un conductor específico.\n",
      "    \n"
     ]
    },
    {
     "name": "stdin",
     "output_type": "stream",
     "text": [
      "Que quieres hacer 4\n",
      "Id del conductor:  1\n",
      "Nombre del cliente:  pepepe\n",
      "Distancia:  55\n",
      "Fare:  55\n"
     ]
    },
    {
     "name": "stdout",
     "output_type": "stream",
     "text": [
      "{'trip_id': 3, 'driver_id': 1, 'customer_name': 'pepepe', 'distance': 55.0, 'fare': 55.0}\n",
      "\n",
      "    0 - Salir\n",
      "    1 - Ver Conductores\n",
      "    2 - Ver viajes\n",
      "    3 - Añadir nuevos conductores\n",
      "    4 - Añadir viaje\n",
      "    5 - Calcular y actualizar el número total de viajes realizados por cada conductor.\n",
      "    6 - Calcular los ingresos totales generados por la compañía de taxis.\n",
      "    7 - Encontrar al conductor con el mayor número de viajes.\n",
      "    8 - Encontrar al conductor con los ingresos totales más altos.\n",
      "    9 - Listar todos los viajes realizados por un conductor específico.\n",
      "    \n"
     ]
    },
    {
     "name": "stdin",
     "output_type": "stream",
     "text": [
      "Que quieres hacer 9\n",
      "Id del conductor:  1\n"
     ]
    },
    {
     "name": "stdout",
     "output_type": "stream",
     "text": [
      "{'trip_id': 101, 'driver_id': 1, 'customer_name': 'Cliente A', 'distance': 10.5, 'fare': 15.75}\n",
      "{'trip_id': 2, 'driver_id': 1, 'customer_name': 'jaja', 'distance': 15.0, 'fare': 15.0}\n",
      "{'trip_id': 3, 'driver_id': 1, 'customer_name': 'pepepe', 'distance': 55.0, 'fare': 55.0}\n",
      "\n",
      "    0 - Salir\n",
      "    1 - Ver Conductores\n",
      "    2 - Ver viajes\n",
      "    3 - Añadir nuevos conductores\n",
      "    4 - Añadir viaje\n",
      "    5 - Calcular y actualizar el número total de viajes realizados por cada conductor.\n",
      "    6 - Calcular los ingresos totales generados por la compañía de taxis.\n",
      "    7 - Encontrar al conductor con el mayor número de viajes.\n",
      "    8 - Encontrar al conductor con los ingresos totales más altos.\n",
      "    9 - Listar todos los viajes realizados por un conductor específico.\n",
      "    \n"
     ]
    },
    {
     "name": "stdin",
     "output_type": "stream",
     "text": [
      "Que quieres hacer 0\n"
     ]
    }
   ],
   "source": [
    "# Inicializar diccionarios y listas para almacenar datos de conductores y viajes\n",
    "driver_data = {}\n",
    "trip_data = []\n",
    "\n",
    "# Añadir nuevos conductores al diccionario de conductores\n",
    "driver_data[1] = {\"full_name\": \"John Doe\", \"contact_number\": \"123-456-7890\", \"total_trips\": 1}\n",
    "# Continuar con más\n",
    "\n",
    "# Registrar nuevos viajes en taxi con los detalles relevantes\n",
    "trip_data.append({\"trip_id\": 101, \"driver_id\": 1, \"customer_name\": \"Cliente A\", \"distance\": 10.5, \"fare\": 15.75})\n",
    "# Continuar con más\n",
    "\n",
    "# Aquí va tu código\n",
    "status = 1\n",
    "while(status):\n",
    "    print('''\n",
    "    0 - Salir\n",
    "    1 - Ver Conductores\n",
    "    2 - Ver viajes\n",
    "    3 - Añadir nuevos conductores\n",
    "    4 - Añadir viaje\n",
    "    5 - Calcular y actualizar el número total de viajes realizados por cada conductor.\n",
    "    6 - Calcular los ingresos totales generados por la compañía de taxis.\n",
    "    7 - Encontrar al conductor con el mayor número de viajes.\n",
    "    8 - Encontrar al conductor con los ingresos totales más altos.\n",
    "    9 - Listar todos los viajes realizados por un conductor específico.\n",
    "    ''')\n",
    "    accion = input(\"Que quieres hacer\")\n",
    "    if(accion == '0'):\n",
    "        status = 0\n",
    "        \n",
    "    elif(accion == '1'):\n",
    "       print(driver_data)\n",
    "        \n",
    "    elif(accion == '2'):\n",
    "        print(trip_data)\n",
    "        \n",
    "    elif(accion == '3'):\n",
    "        id_conductor = len(driver_data) + 1\n",
    "        full_name = input(\" Nombre Completo: \")\n",
    "        contact_number = input(\"Telefono: \")\n",
    "        total_trips = 0\n",
    "        driver_data[id_conductor] = {\n",
    "            \"full_name\": full_name, \n",
    "            \"contact_number\": contact_number, \n",
    "            \"total_trips\": total_trips\n",
    "        }\n",
    "\n",
    "        print(driver_data[id_conductor])\n",
    "        \n",
    "    elif(accion == '4'):\n",
    "        trip_id =  len(trip_data) + 1\n",
    "        id_conductor = int(input(\"Id del conductor: \"))\n",
    "        customer_name = input(\"Nombre del cliente: \")\n",
    "        distance = float(input(\"Distancia: \"))\n",
    "        fare = float(input(\"Fare: \"))\n",
    "\n",
    "        trip_data.append({\"trip_id\": trip_id, \"driver_id\": id_conductor, \"customer_name\": customer_name, \"distance\": distance, \"fare\": fare})\n",
    "\n",
    "        print(trip_data[len(trip_data) - 1])\n",
    "        \n",
    "        driver_data[id_conductor][\"total_trips\"] += 1\n",
    "        \n",
    "    elif(accion == '5'):\n",
    "        id_conductor = int(input(\"Id del conductor: \"))\n",
    "        print(f\"El número de total de viajes del conductor {driver_data[id_conductor]['full_name']} es {driver_data[id_conductor]['total_trips']}\")\n",
    "        \n",
    "    elif(accion == '6'):\n",
    "        print(\"\")\n",
    "        \n",
    "    elif(accion == '7'):\n",
    "        id_conductor_higher_trips = max(driver_data, key=lambda x:driver_data[x].get(\"total_trips\", 0))\n",
    "        print(f\"El conductor con mayor número de viajes es {driver_data[id_conductor_higher_trips]['full_name']} con {driver_data[id_conductor_higher_trips]['total_trips']} viajes\")\n",
    "        \n",
    "    elif(accion == '8'):\n",
    "        print(\"\")\n",
    "        \n",
    "    elif(accion == '9'):\n",
    "        trips_especific_driver=[]\n",
    "        id_conductor = int(input(\"Id del conductor: \"))\n",
    "        for trips in trip_data:\n",
    "            trips_especific_driver.append(trips)\n",
    "        for trips in trips_especific_driver:\n",
    "            print(trips)\n",
    "        \n",
    "    \n",
    "        \n",
    "        \n"
   ]
  },
  {
   "cell_type": "code",
   "execution_count": null,
   "id": "ad82ed7f-bbc6-4a00-bd44-6cd73248df32",
   "metadata": {},
   "outputs": [],
   "source": []
  }
 ],
 "metadata": {
  "kernelspec": {
   "display_name": "Python 3 (ipykernel)",
   "language": "python",
   "name": "python3"
  },
  "language_info": {
   "codemirror_mode": {
    "name": "ipython",
    "version": 3
   },
   "file_extension": ".py",
   "mimetype": "text/x-python",
   "name": "python",
   "nbconvert_exporter": "python",
   "pygments_lexer": "ipython3",
   "version": "3.10.12"
  }
 },
 "nbformat": 4,
 "nbformat_minor": 5
}
